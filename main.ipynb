{
  "cells": [
    {
      "cell_type": "code",
      "execution_count": 5,
      "metadata": {
        "id": "aDQXAOHS8LZh"
      },
      "outputs": [],
      "source": [
        "import os\n",
        "import sys\n",
        "import numpy as np\n",
        "import tensorflow as tf\n",
        "import matplotlib.pyplot as plt\n",
        "from datetime import datetime\n",
        "from tensorflow.keras.layers import (\n",
        "    Activation, AveragePooling2D, BatchNormalization, Conv2D, Conv2DTranspose,\n",
        "    Dense, Dropout, Flatten, Input, LeakyReLU, ReLU, UpSampling2D)\n",
        "from tensorflow.keras.datasets import cifar10\n",
        "from tensorflow.keras.models import Sequential, Model\n",
        "from time import time\n",
        "from skimage.color import rgb2lab, lab2rgb\n",
        "import time\n",
        "\n",
        "IMAGE_SIZE = 32\n",
        "EPOCHS = 100\n",
        "BATCH_SIZE = 128\n",
        "SHUFFLE_BUFFER_SIZE = 100"
      ]
    },
    {
      "cell_type": "code",
      "execution_count": 6,
      "metadata": {
        "id": "fv2attTI8OWz"
      },
      "outputs": [],
      "source": [
        "def generate_dataset(images, debug=False):\n",
        "    X = []\n",
        "    Y = []\n",
        "\n",
        "    for i in images:\n",
        "        lab_image_array = rgb2lab(i / 255)\n",
        "        x = lab_image_array[:, :, 0]\n",
        "        y = lab_image_array[:, :, 1:]\n",
        "        y /= 128  # normalize\n",
        "\n",
        "\n",
        "        X.append(x.reshape(IMAGE_SIZE, IMAGE_SIZE, 1))\n",
        "        Y.append(y)\n",
        "\n",
        "    X = np.array(X, dtype=np.float32)\n",
        "    Y = np.array(Y, dtype=np.float32)\n",
        "\n",
        "    return X, Y\n",
        "\n",
        "\n",
        "def load_data(force=False):\n",
        "    (train_images, _), (test_images, _) = cifar10.load_data()\n",
        "    X_train, Y_train = generate_dataset(train_images)\n",
        "    X_test, Y_test = generate_dataset(test_images)\n",
        "    return X_train, Y_train, X_test, Y_test\n",
        "\n",
        "\n",
        "X_train, Y_train, X_test, Y_test = load_data()\n",
        "\n",
        "train_dataset = tf.data.Dataset.from_tensor_slices((X_train, Y_train))\n",
        "test_dataset = tf.data.Dataset.from_tensor_slices((X_test, Y_test))\n",
        "\n",
        "train_dataset = train_dataset.shuffle(SHUFFLE_BUFFER_SIZE).batch(BATCH_SIZE)\n",
        "test_dataset = test_dataset.batch(BATCH_SIZE)"
      ]
    },
    {
      "cell_type": "code",
      "execution_count": 7,
      "metadata": {
        "id": "zChqzKKgmFHw"
      },
      "outputs": [],
      "source": [
        "def conv2d_block(filters, kernel_size, apply_batchnorm=True,stride=2):\n",
        "    initializer = tf.random_uniform_initializer(0, 0.02)\n",
        "    model = Sequential()\n",
        "    model.add(Conv2D(filters, kernel_size, strides=stride, padding='same',\n",
        "                     kernel_initializer=initializer, use_bias=False))\n",
        "    \n",
        "    if apply_batchnorm:\n",
        "        model.add(BatchNormalization())\n",
        "\n",
        "    model.add(LeakyReLU())\n",
        "    return model\n",
        "\n",
        "\n",
        "def conv2d_transpose_block(filters, kernel_size, apply_batchnorm=True,stride=2,apply_dropout=False):\n",
        "    initializer = tf.random_uniform_initializer(0, 0.02)\n",
        "    model = Sequential()\n",
        "    model.add(Conv2DTranspose(filters, kernel_size, strides=stride, padding='same',\n",
        "                              kernel_initializer=initializer, use_bias=False))\n",
        "    model.add(BatchNormalization())\n",
        "\n",
        "    if apply_batchnorm:\n",
        "        model.add(BatchNormalization())\n",
        "    \n",
        "    model.add(ReLU())\n",
        "\n",
        "    if apply_dropout:\n",
        "        model.add(Dropout(0.5))\n",
        "\n",
        "    \n",
        "    return model\n",
        "\n",
        "\n",
        "def make_autoencoder_generator_model():\n",
        "    inputs = Input(shape=(IMAGE_SIZE, IMAGE_SIZE, 1))\n",
        "\n",
        "    # Encoder Layers\n",
        "    # 1: (BATCH_SIZE, 16, 16, 32)\n",
        "    # 2: (BATCH_SIZE, 8, 8, 64)\n",
        "    # 3: (BATCH_SIZE, 4, 4, 128)\n",
        "    # 4: (BATCH_SIZE, 2, 2, 256)\n",
        "    # 5: (BATCH_SIZE, 1, 1, 256)\n",
        "  \n",
        "\n",
        "    downstack = [\n",
        "        conv2d_block(32, 4, apply_batchnorm=False),\n",
        "        conv2d_block(64, 4),\n",
        "        conv2d_block(128, 4),\n",
        "        conv2d_block(256, 4),\n",
        "        conv2d_block(256, 4)\n",
        "    ]\n",
        "\n",
        "    # Decoder layers\n",
        "    # 1: (BATCH_SIZE, 1, 1, 256)\n",
        "    # 2: (BATCH_SIZE, 1, 1, 128)\n",
        "    # 3: (BATCH_SIZE, 1, 1, 64)\n",
        "    # 4: (BATCH_SIZE, 1, 1, 32)\n",
        "\n",
        "    upstack = [\n",
        "        conv2d_transpose_block(256, 4, apply_dropout=True),\n",
        "        conv2d_transpose_block(128, 4),\n",
        "        conv2d_transpose_block(64, 4),\n",
        "        conv2d_transpose_block(32, 4),\n",
        "    ]\n",
        "\n",
        "    initializer = tf.random_uniform_initializer(0, 0.02)\n",
        "    output_layer = Conv2DTranspose(2, 3, strides=2, padding='same',\n",
        "                                   kernel_initializer=initializer,\n",
        "                                   activation='tanh')\n",
        "    \n",
        "    x = inputs\n",
        "\n",
        "    # Downsampling layers\n",
        "    skips = []\n",
        "    for dm in downstack:\n",
        "        x = dm(x)\n",
        "        skips.append(x)\n",
        "\n",
        "    skips = reversed(skips[:-1])\n",
        "\n",
        "    # Upsampling layers\n",
        "    for um, skip in zip(upstack, skips):\n",
        "        x = um(x)\n",
        "        x = tf.keras.layers.Concatenate()([x, skip])\n",
        "    \n",
        "    x = output_layer(x)\n",
        "\n",
        "    return Model(inputs=inputs, outputs=x)"
      ]
    },
    {
      "cell_type": "code",
      "execution_count": 8,
      "metadata": {
        "id": "1K3rj5IK8kyP"
      },
      "outputs": [],
      "source": [
        "def make_discriminator_model():\n",
        "    inputs = Input(shape=(IMAGE_SIZE, IMAGE_SIZE, 3))\n",
        "    x = inputs\n",
        "    discstack=[\n",
        "        conv2d_block(64, 4,apply_batchnorm=False),\n",
        "        conv2d_block(128, 4),\n",
        "        conv2d_block(256, 4),\n",
        "        conv2d_block(512, 4,stride=1,apply_batchnorm=False),\n",
        "    ]\n",
        "    output_layer = conv2d_block(1,4,stride=1)\n",
        "\n",
        "\n",
        "    for ds in discstack:\n",
        "      x = ds(x)\n",
        "    x = output_layer(x)\n",
        "\n",
        "\n",
        "    return Model(inputs=inputs,outputs=x)"
      ]
    },
    {
      "cell_type": "code",
      "execution_count": 9,
      "metadata": {
        "id": "GR_ML92o8mP7"
      },
      "outputs": [],
      "source": [
        "LAMBDA = 100\n",
        "cross_entropy = tf.keras.losses.BinaryCrossentropy(from_logits=True)\n",
        "\n",
        "\n",
        "def discriminator_loss(disc_real_output, disc_generated_output):\n",
        "    real_loss = cross_entropy(tf.ones_like(disc_real_output), disc_real_output)\n",
        "    generated_loss = cross_entropy(tf.zeros_like(disc_generated_output), disc_generated_output)\n",
        "    total_disc_loss = real_loss + generated_loss\n",
        "    return total_disc_loss\n",
        "\n",
        "\n",
        "def generator_loss(disc_generated_output, gen_output, target):\n",
        "    gan_loss = cross_entropy(tf.ones_like(disc_generated_output), disc_generated_output)\n",
        "    # mean absolute error\n",
        "    l1_loss = tf.reduce_mean(tf.abs(target - gen_output))\n",
        "    total_gen_loss = gan_loss + (LAMBDA * l1_loss)\n",
        "    return total_gen_loss, gan_loss, l1_loss"
      ]
    },
    {
      "cell_type": "code",
      "execution_count": 10,
      "metadata": {
        "id": "Vj2E6Mu58nhh"
      },
      "outputs": [],
      "source": [
        "generator = make_autoencoder_generator_model()\n",
        "discriminator = make_discriminator_model()\n",
        "\n",
        "generator_optimizer = tf.keras.optimizers.Adam(2e-4, beta_1=0.5)\n",
        "discriminator_optimizer = tf.keras.optimizers.Adam(2e-4, beta_1=0.5)\n",
        "\n"
      ]
    },
    {
      "cell_type": "code",
      "execution_count": 11,
      "metadata": {
        "id": "JsH4W1-x8otE"
      },
      "outputs": [],
      "source": [
        "\n",
        "@tf.function\n",
        "def train_step(input_image, target, epoch):\n",
        "    with tf.GradientTape() as gen_tape, tf.GradientTape() as disc_tape:\n",
        "        # print(input_image.shape)\n",
        "        gen_output = generator(input_image, training=True)\n",
        "\n",
        "        disc_real_output = discriminator(tf.keras.layers.concatenate([input_image, target]), training=True)\n",
        "        # print(target.shape)\n",
        "        # print(gen_output.shape)\n",
        "        disc_generated_output = discriminator(tf.keras.layers.concatenate([input_image, gen_output]), training=True)\n",
        "        \n",
        "        gen_total_loss, gen_gan_loss, gen_l1_loss = generator_loss(\n",
        "            disc_generated_output, gen_output, target)\n",
        "        disc_loss = discriminator_loss(disc_real_output, disc_generated_output)\n",
        "\n",
        "    generator_gradients = gen_tape.gradient(gen_total_loss,\n",
        "                                            generator.trainable_variables)\n",
        "    discriminator_gradients = disc_tape.gradient(disc_loss,\n",
        "                                                 discriminator.trainable_variables)\n",
        "\n",
        "    generator_optimizer.apply_gradients(zip(generator_gradients,\n",
        "                                          generator.trainable_variables))\n",
        "    discriminator_optimizer.apply_gradients(zip(discriminator_gradients,\n",
        "                                              discriminator.trainable_variables))\n",
        "\n",
        "    \n",
        "    return gen_total_loss, disc_loss"
      ]
    },
    {
      "cell_type": "code",
      "execution_count": null,
      "metadata": {
        "colab": {
          "base_uri": "https://localhost:8080/",
          "height": 718
        },
        "id": "O96u8HUY_rSe",
        "outputId": "a1087397-144b-4215-bccf-d0fdb3726039"
      },
      "outputs": [],
      "source": [
        "for e in range(EPOCHS):\n",
        "    gen_loss_total = disc_loss_total = 0\n",
        "    for input_image, target in train_dataset:\n",
        "        gen_loss, disc_loss = train_step(input_image, target, e)\n",
        "        gen_loss_total += gen_loss\n",
        "        disc_loss_total += disc_loss\n",
        "\n",
        "    \n",
        "    print('Epoch {}: gen loss: {}, disc loss: {}'.format(\n",
        "        e + 1, gen_loss_total / BATCH_SIZE, disc_loss_total / BATCH_SIZE))"
      ]
    },
    {
      "cell_type": "code",
      "execution_count": 12,
      "metadata": {
        "id": "OzwS9jrzTMxD"
      },
      "outputs": [],
      "source": [
        "\n",
        "# generator = tf.saved_model.load(\"./generator\")\n"
      ]
    },
    {
      "cell_type": "markdown",
      "metadata": {
        "id": "E0T_0BjE8ELl"
      },
      "source": []
    },
    {
      "cell_type": "code",
      "execution_count": null,
      "metadata": {
        "colab": {
          "base_uri": "https://localhost:8080/",
          "height": 406
        },
        "id": "FAzMrQKo8wlC",
        "outputId": "fb8f4b80-9cc1-4253-b045-1b5fd5c84cec"
      },
      "outputs": [],
      "source": [
        "Y_hat = generator(X_test[:20])\n",
        "# print(Y_hat.shape)\n",
        "total_count = len(Y_hat)\n",
        "import time\n",
        "\n",
        "for idx, (x, y, y_hat) in enumerate(zip(X_test[:250], Y_test[:250], Y_hat)):\n",
        "\n",
        "    # Original RGB image\n",
        "    orig_lab = np.dstack((x, y * 128))\n",
        "    orig_rgb = lab2rgb(orig_lab)\n",
        "\n",
        "    # Grayscale version of the original image\n",
        "    grayscale_lab = np.dstack((x, np.zeros((IMAGE_SIZE, IMAGE_SIZE, 2))))\n",
        "    grayscale_rgb = lab2rgb(grayscale_lab)\n",
        "\n",
        "    # Colorized image\n",
        "    predicted_lab = np.dstack((x, y_hat * 128))\n",
        "    predicted_rgb = lab2rgb(predicted_lab)\n",
        "    # print(predicted_rgb.shape)\n",
        "\n",
        "\n",
        "    \n",
        "    plt.axis('off')\n",
        "    # plt.imshow(grayscale_rgb)\n",
        "    plt.savefig(os.path.join(\"./\", 'results', '{}-bw.png'.format(idx)))\n",
        "\n",
        "    plt.axis('off')\n",
        "    # plt.imshow(orig_rgb)\n",
        "    plt.savefig(os.path.join(\"./\", 'results', '{}-gt.png'.format(idx)))\n",
        "\n",
        "    plt.axis('off')\n",
        "    # plt.imshow(predicted_rgb)\n",
        "    plt.savefig(os.path.join(\"./\", 'results', '{}-gan.png'.format(idx)))\n",
        "\n",
        "\n",
        "None"
      ]
    },
    {
      "cell_type": "code",
      "execution_count": null,
      "metadata": {
        "id": "zqcecjWOXFaW"
      },
      "outputs": [],
      "source": [
        "tf.saved_model.save(generator, \"./generator\")"
      ]
    },
    {
      "cell_type": "code",
      "execution_count": null,
      "metadata": {
        "id": "IibPhDCcXZRy"
      },
      "outputs": [],
      "source": [
        "tf.saved_model.save(discriminator, \"./discriminator\")"
      ]
    }
  ],
  "metadata": {
    "accelerator": "GPU",
    "colab": {
      "provenance": []
    },
    "kernelspec": {
      "display_name": "Python 3",
      "name": "python3"
    }
  },
  "nbformat": 4,
  "nbformat_minor": 0
}
